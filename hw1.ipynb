{
 "cells": [
  {
   "cell_type": "markdown",
   "metadata": {},
   "source": [
    "## 1 - 패키지\n",
    "\n",
    "코드 실행에 필요한 패키지 입니다.\n",
    "- [numpy](www.numpy.org)는 Python에서 행렬 작업을 위한 기본 패키지입니다.\n",
    "- [matplotlib](http://matplotlib.org)는 Python에서 그래프를 그리는 라이브러리입니다."
   ]
  },
  {
   "cell_type": "code",
   "execution_count": 1,
   "metadata": {},
   "outputs": [],
   "source": [
    "import numpy as np\n",
    "import matplotlib.pyplot as plt\n",
    "import copy\n",
    "import math\n",
    "%matplotlib inline"
   ]
  },
  {
   "cell_type": "markdown",
   "metadata": {},
   "source": [
    "## 2 - 문제 설명\n",
    "\n",
    "당신이 레스토랑 프랜차이즈의 CEO이고 새로운 매장을 열기 위해 여러 도시를 고려하고 있다고 가정해 보겠습니다.\n",
    "\n",
    "이미 다양한 도시에 레스토랑이 있으며 해당 도시의 수익과 인구에 대한 데이터가 있습니다.\n",
    "\n",
    "데이터를 사용하여 비즈니스에 더 높은 수익을 줄 수 있는 도시를 식별할 수 있는지에 대한 문제입니다.\n",
    "\n",
    "## 3 - 데이터세트\n",
    "\n",
    "\n",
    "아래 표시된 `load_data()` 함수는 데이터를 `x_train` 및 `y_train` 변수에 로드합니다.\n",
    "- `x_train`은 도시의 인구입니다.\n",
    "- `y_train`은 해당 도시에 있는 레스토랑의 수익입니다. 이익의 음수 값은 손실을 나타냅니다.\n",
    "- `X_train`과 `y_train`은 모두 numpy 배열입니다.\n",
    "\n",
    "## 4 - 풀이방법\n",
    "\n",
    "인구수에 따른 수익률 예상을 위해 normal equation과 gradient descent 방식을 사용하여 Linear Regression을 진행하면 됩니다.\n",
    "\n",
    "본 과제는 normal equation, compute_cost, compute_gradient, gradient_descent 함수에서 start code와 end code 사이에 코드를 작성하면 되는 과제입니다.\n",
    "\n",
    "- 꼭 `data.txt` 파일을 코랩에서 함께 업로드 하여 사용해주세요\n",
    "\n",
    "- Data load에 문제가 있을시 코드를 바꾸어 사용해도 됩니다. 바꾸면 꼭 주석을 달아주세요\n"
   ]
  },
  {
   "cell_type": "code",
   "execution_count": 2,
   "metadata": {},
   "outputs": [],
   "source": [
    "def load_data():\n",
    "    data = np.loadtxt(\"data.txt\", delimiter=',')\n",
    "    X = data[:,0]\n",
    "    y = data[:,1]\n",
    "    return X, y"
   ]
  },
  {
   "cell_type": "code",
   "execution_count": 3,
   "metadata": {},
   "outputs": [
    {
     "name": "stdout",
     "output_type": "stream",
     "text": [
      "Type of x_train: <class 'numpy.ndarray'>\n",
      "First five elements of x_train are:\n",
      " [6.1101 5.5277 8.5186 7.0032 5.8598]\n",
      "Type of y_train: <class 'numpy.ndarray'>\n",
      "First five elements of y_train are:\n",
      " [17.592   9.1302 13.662  11.854   6.8233]\n",
      "The shape of x_train is: (97,)\n",
      "The shape of y_train is:  (97,)\n",
      "Number of training examples (m): 97\n"
     ]
    },
    {
     "data": {
      "image/png": "[encoded data removed]",
      "text/plain": [
       "<Figure size 640x480 with 1 Axes>"
      ]
     },
     "metadata": {},
     "output_type": "display_data"
    }
   ],
   "source": [
    "x_train, y_train = load_data()\n",
    "\n",
    "print(\"Type of x_train:\",type(x_train))\n",
    "print(\"First five elements of x_train are:\\n\", x_train[:5]) \n",
    "\n",
    "print(\"Type of y_train:\",type(y_train))\n",
    "print(\"First five elements of y_train are:\\n\", y_train[:5])  \n",
    "\n",
    "print ('The shape of x_train is:', x_train.shape)\n",
    "print ('The shape of y_train is: ', y_train.shape)\n",
    "print ('Number of training examples (m):', len(x_train))\n",
    "\n",
    "plt.scatter(x_train, y_train, marker='x', c='r') \n",
    "plt.title(\"Profits vs. Population per city\")\n",
    "plt.ylabel('Profit in $10,000')\n",
    "plt.xlabel('Population of City in 10,000s')\n",
    "plt.show()"
   ]
  },
  {
   "cell_type": "code",
   "execution_count": 4,
   "metadata": {},
   "outputs": [],
   "source": [
    "def normal_equation(x,y):\n",
    "    \"\"\"\n",
    "    Compute theta using normal equation\n",
    "    \n",
    "    Args:\n",
    "        x (ndarray): Shape (m,) Input to the model (Population of cities) \n",
    "        y (ndarray): Shape (m,) Label (Actual profits for the cities)\n",
    "        w, b (scalar): Parameters of the model\n",
    "        \n",
    "    Returns\n",
    "        parameter w and b (weight and bias)\n",
    "    \n",
    "    \"\"\"\n",
    "    \n",
    "    ### START CODE HERE ### \n",
    "    \n",
    "    X = np.vstack([np.ones(len(x)), x]).T  ## 사용시 w와 b를 둘 다 구할 수 있습니다.\n",
    "    \n",
    "    # W = (X^T * X)^-1 * X^T * y\n",
    "    w = np.linalg.inv(X.T.dot(X)).dot(X.T).dot(y)\n",
    "    b = w[0]\n",
    "    w = w[1]\n",
    "\n",
    "    ### END CODE HERE ###\n",
    "    \n",
    "    return w, b"
   ]
  },
  {
   "cell_type": "code",
   "execution_count": 5,
   "metadata": {},
   "outputs": [],
   "source": [
    "\n",
    "def compute_cost(x, y, w, b): \n",
    "    \"\"\"\n",
    "    Computes the cost function for linear regression.\n",
    "    \n",
    "    Args:\n",
    "        x (ndarray): Shape (m,) Input to the model (Population of cities) \n",
    "        y (ndarray): Shape (m,) Label (Actual profits for the cities)\n",
    "        w, b (scalar): Parameters of the model\n",
    "    \n",
    "    Returns\n",
    "        total_cost (float): The cost of using w,b as the parameters for linear regression\n",
    "               to fit the data points in x and y\n",
    "    \"\"\"\n",
    "    # number of training examples\n",
    "    m = x.shape[0] \n",
    "    \n",
    "    # You need to return this variable correctly\n",
    "    total_cost = 0\n",
    "    \n",
    "    ### START CODE HERE ###  \n",
    "    cost_sum = np.sum((w * x + b - y) ** 2)\n",
    "\n",
    "    total_cost = cost_sum / m\n",
    "    ### END CODE HERE ### \n",
    "\n",
    "    return total_cost"
   ]
  },
  {
   "cell_type": "code",
   "execution_count": 6,
   "metadata": {},
   "outputs": [],
   "source": [
    "### test comput cost ###\n",
    "\n",
    "# initial_w = 2\n",
    "# initial_b = 1\n",
    "\n",
    "# cost = compute_cost(x_train, y_train, initial_w, initial_b)\n",
    "# print(type(cost))\n",
    "# print(f'Cost at initial w: {cost:.3f}')"
   ]
  },
  {
   "cell_type": "code",
   "execution_count": 7,
   "metadata": {},
   "outputs": [],
   "source": [
    "def compute_gradient(x, y, w, b): \n",
    "    \"\"\"\n",
    "    Computes the gradient for linear regression \n",
    "    Args:\n",
    "      x (ndarray): Shape (m,) Input to the model (Population of cities) \n",
    "      y (ndarray): Shape (m,) Label (Actual profits for the cities)\n",
    "      w, b (scalar): Parameters of the model  \n",
    "    Returns\n",
    "      dj_dw (scalar): The gradient of the cost w.r.t. the parameters w\n",
    "      dj_db (scalar): The gradient of the cost w.r.t. the parameter b     \n",
    "     \"\"\"\n",
    "    \n",
    "    # Number of training examples\n",
    "    m = x.shape[0]\n",
    "    \n",
    "    # You need to return the following variables correctly\n",
    "    dj_dw = 0\n",
    "    dj_db = 0\n",
    "    \n",
    "    ### START CODE HERE ### \n",
    "    \n",
    "    dj_dw = np.dot(x, w * x + b - y)\n",
    "    dj_db = np.sum(w * x + b - y)\n",
    "          \n",
    "    dj_dw = dj_dw/m\n",
    "    dj_db = dj_db/m    \n",
    "    ### END CODE HERE ### \n",
    "        \n",
    "    return dj_dw, dj_db"
   ]
  },
  {
   "cell_type": "code",
   "execution_count": 8,
   "metadata": {},
   "outputs": [],
   "source": [
    "### test for compute gradient ###\n",
    "\n",
    "# initial_w = 0\n",
    "# initial_b = 0\n",
    "\n",
    "# tmp_dj_dw, tmp_dj_db = compute_gradient(x_train, y_train, initial_w, initial_b)\n",
    "# print('Gradient at initial w, b (zeros):', tmp_dj_dw, tmp_dj_db)"
   ]
  },
  {
   "cell_type": "code",
   "execution_count": 9,
   "metadata": {},
   "outputs": [],
   "source": [
    "def gradient_descent(x, y, w_in, b_in, cost_function, gradient_function, alpha, num_iters): \n",
    "    \"\"\"\n",
    "    Performs batch gradient descent to learn theta. Updates theta by taking \n",
    "    num_iters gradient steps with learning rate alpha\n",
    "    \n",
    "    Args:\n",
    "      x :    (ndarray): Shape (m,)\n",
    "      y :    (ndarray): Shape (m,)\n",
    "      w_in, b_in : (scalar) Initial values of parameters of the model\n",
    "      cost_function: function to compute cost\n",
    "      gradient_function: function to compute the gradient\n",
    "      alpha : (float) Learning rate\n",
    "      num_iters : (int) number of iterations to run gradient descent\n",
    "    Returns\n",
    "      w : (ndarray): Shape (1,) Updated values of parameters of the model after\n",
    "          running gradient descent\n",
    "      b : (scalar)                Updated value of parameter of the model after\n",
    "          running gradient descent\n",
    "    \"\"\"\n",
    "    \n",
    "    # number of training examples\n",
    "    # m = len(x)\n",
    "    \n",
    "    # An array to store cost and w's at each iteration — primarily for graphing later\n",
    "    cost_history = []\n",
    "    w_history = []\n",
    "    w = copy.deepcopy(w_in)  #avoid modifying global w within function\n",
    "    b = b_in\n",
    "    \n",
    "    for i in range(num_iters):\n",
    "\n",
    "        ### START CODE HERE ###\n",
    "        \n",
    "        # Calculate the gradient and update the parameters\n",
    "        dj_dw, dj_db = gradient_function(x, y, w, b)\n",
    "\n",
    "        # Update Parameters using w, b, alpha and gradient\n",
    "        w = w - alpha * dj_dw\n",
    "        b = b - alpha * dj_db           \n",
    "\n",
    "        # Save cost J at each iteration\n",
    "        if i<100000:      # prevent resource exhaustion  ## do not change i<100000\n",
    "            cost =  cost_function(x, y, w, b)\n",
    "            cost_history.append(cost)\n",
    "            w_history.append(w)\n",
    "            \n",
    "            ## Hint : cost_history.append(cost)\n",
    "\n",
    "        ### END CODE HERE ###\n",
    "        \n",
    "        # Print cost every at intervals 10 times or as many iterations if < 10\n",
    "        if i% math.ceil(num_iters/10) == 0:\n",
    "            w_history.append(w)\n",
    "            print(f\"Iteration {i:4}: Cost {float(cost_history[-1]):8.2f}   \")\n",
    "        \n",
    "    return w, b, cost_history, w_history #return w and J,w history for graphing"
   ]
  },
  {
   "cell_type": "code",
   "execution_count": 10,
   "metadata": {},
   "outputs": [
    {
     "name": "stdout",
     "output_type": "stream",
     "text": [
      "Iteration    0: Cost    13.47   \n",
      "Iteration  150: Cost    10.62   \n",
      "Iteration  300: Cost     9.93   \n",
      "Iteration  450: Cost     9.52   \n",
      "Iteration  600: Cost     9.28   \n",
      "Iteration  750: Cost     9.15   \n",
      "Iteration  900: Cost     9.07   \n",
      "Iteration 1050: Cost     9.02   \n",
      "Iteration 1200: Cost     8.99   \n",
      "Iteration 1350: Cost     8.98   \n",
      "w,b found by gradient descent: 1.166362350335582 -3.63029143940436\n",
      "w,b found by normal equation: 1.1930336441895935 -3.8957808783118537\n"
     ]
    }
   ],
   "source": [
    "initial_w = 0.\n",
    "initial_b = 0.\n",
    "\n",
    "# some gradient descent settings\n",
    "iterations = 1500\n",
    "learning_rate = 0.01\n",
    "\n",
    "w_g,b_g,cost_history ,_ = gradient_descent(x_train ,y_train, initial_w, initial_b, \n",
    "                     compute_cost, compute_gradient, learning_rate, iterations)\n",
    "print(\"w,b found by gradient descent:\", w_g, b_g)\n",
    "\n",
    "w_n, b_n = normal_equation(x_train, y_train)\n",
    "print(\"w,b found by normal equation:\", w_n, b_n)\n"
   ]
  },
  {
   "cell_type": "code",
   "execution_count": 11,
   "metadata": {},
   "outputs": [
    {
     "data": {
      "image/png": "[encoded data removed]",
      "text/plain": [
       "<Figure size 640x480 with 1 Axes>"
      ]
     },
     "metadata": {},
     "output_type": "display_data"
    }
   ],
   "source": [
    "plt.plot(range(len(cost_history)), cost_history)\n",
    "plt.xlabel('Iterations')\n",
    "plt.ylabel('Cost')\n",
    "plt.title('Training Curve - Gradient Descent')\n",
    "plt.show()"
   ]
  }
 ],
 "metadata": {
  "kernelspec": {
   "display_name": "zoe",
   "language": "python",
   "name": "python3"
  },
  "language_info": {
   "codemirror_mode": {
    "name": "ipython",
    "version": 3
   },
   "file_extension": ".py",
   "mimetype": "text/x-python",
   "name": "python",
   "nbconvert_exporter": "python",
   "pygments_lexer": "ipython3",
   "version": "3.12.4"
  }
 },
 "nbformat": 4,
 "nbformat_minor": 2
}
